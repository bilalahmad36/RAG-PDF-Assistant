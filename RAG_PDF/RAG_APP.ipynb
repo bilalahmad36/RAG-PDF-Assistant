{
 "cells": [
  {
   "cell_type": "code",
   "execution_count": 1,
   "id": "b1a74961",
   "metadata": {},
   "outputs": [],
   "source": [
    "import os\n",
    "from dotenv import load_dotenv\n",
    "from langchain_openai import ChatOpenAI\n",
    "from langchain_community.embeddings import HuggingFaceEmbeddings\n",
    "from langchain_core.vectorstores import InMemoryVectorStore\n",
    "from langchain_community.document_loaders import PyPDFLoader\n",
    "from langchain_text_splitters import RecursiveCharacterTextSplitter\n",
    "from typing_extensions import List, TypedDict\n",
    "from langchain_core.documents import Document\n",
    "from langchain import hub\n",
    "from langgraph.graph import START, StateGraph\n",
    "\n",
    "\n",
    "\n",
    "load_dotenv()\n",
    "\n",
    "openrouter_key = os.getenv(\"OPENROUTER_API_KEY\")\n",
    "openrouter_base_url = os.getenv(\"OPENAI_BASE_URL\")"
   ]
  },
  {
   "cell_type": "code",
   "execution_count": 2,
   "id": "fcfc6753",
   "metadata": {},
   "outputs": [
    {
     "name": "stdout",
     "output_type": "stream",
     "text": [
      "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\n"
     ]
    }
   ],
   "source": [
    "print(openrouter_key)"
   ]
  },
  {
   "cell_type": "code",
   "execution_count": 7,
   "id": "86acf4a8",
   "metadata": {},
   "outputs": [
    {
     "name": "stderr",
     "output_type": "stream",
     "text": [
      "f:\\AI_Agent\\Graphenv\\Lib\\site-packages\\tqdm\\auto.py:21: TqdmWarning: IProgress not found. Please update jupyter and ipywidgets. See https://ipywidgets.readthedocs.io/en/stable/user_install.html\n",
      "  from .autonotebook import tqdm as notebook_tqdm\n",
      "f:\\AI_Agent\\Graphenv\\Lib\\site-packages\\huggingface_hub\\file_download.py:143: UserWarning: `huggingface_hub` cache-system uses symlinks by default to efficiently store duplicated files but your machine does not support them in C:\\Users\\user\\.cache\\huggingface\\hub\\models--BAAI--bge-small-en-v1.5. Caching files will still work but in a degraded version that might require more space on your disk. This warning can be disabled by setting the `HF_HUB_DISABLE_SYMLINKS_WARNING` environment variable. For more details, see https://huggingface.co/docs/huggingface_hub/how-to-cache#limitations.\n",
      "To support symlinks on Windows, you either need to activate Developer Mode or to run Python as an administrator. In order to activate developer mode, see this article: https://docs.microsoft.com/en-us/windows/apps/get-started/enable-your-device-for-development\n",
      "  warnings.warn(message)\n"
     ]
    }
   ],
   "source": [
    "llm = ChatOpenAI(\n",
    "    model_name=\"deepseek/deepseek-chat-v3.1:free\",\n",
    "    api_key=openrouter_key,\n",
    "    base_url=openrouter_base_url\n",
    ")\n",
    "\n",
    "\n",
    "emb = HuggingFaceEmbeddings(\n",
    "    model_name=\"BAAI/bge-small-en-v1.5\",\n",
    "    encode_kwargs={\"normalize_embeddings\": True}  # normalize for cosine similarity\n",
    ")\n",
    "\n",
    "\n",
    "vector_store = InMemoryVectorStore(emb)"
   ]
  },
  {
   "cell_type": "code",
   "execution_count": 5,
   "id": "842b92df",
   "metadata": {},
   "outputs": [
    {
     "name": "stdout",
     "output_type": "stream",
     "text": [
      "Hello! It looks like you're excited about using **LangGraph** with **OpenRouter**. \n",
      "\n",
      "**LangGraph** is a library for building stateful, multi-actor applications with LLMs (like agents, chatbots, and workflows), while **OpenRouter** is a unified API that lets you access multiple LLMs (such as GPT-4, Claude, Llama, etc.) through a single endpoint.\n",
      "\n",
      "### How can I help you today?\n",
      "1. **Setting up LangGraph with OpenRouter** – Need guidance on integrating OpenRouter as your LLM provider?\n",
      "2. **Building a specific workflow** – Creating a chatbot, agent, or custom stateful application?\n",
      "3. **Debugging an issue** – Running into problems with your graph or OpenRouter API calls?\n",
      "4. **Something else?** Let me know!\n",
      "\n",
      "Feel free to share more details, and I'll assist you! 🚀\n"
     ]
    }
   ],
   "source": [
    "print(llm.invoke(\"Hello, LangGraph + OpenRouter!\").content)"
   ]
  },
  {
   "cell_type": "code",
   "execution_count": 8,
   "id": "b6b390f9",
   "metadata": {},
   "outputs": [
    {
     "name": "stdout",
     "output_type": "stream",
     "text": [
      "Loaded 1 pages\n",
      "Khawaja Bilal Ahmad\n",
      "bilalahmad101325@gmail.com\n",
      " \n",
      "Islamabad\n",
      " \n",
      "03365796899\n",
      " \n",
      "03315886499\n",
      " \n",
      "EDUCATION\n",
      "2022 – present Riphah International University, Bachelors in Computer Science\n",
      "CAREER OBJECTIVE\n",
      "Motivated to grow as a developer by building smart, efficient systems that solve real-world problems. \n",
      "Eag\n"
     ]
    }
   ],
   "source": [
    "pdf_path = r\"C:\\Users\\user\\Desktop\\Khawaja-Bilal-Ahmad.pdf\"\n",
    "loader = PyPDFLoader(pdf_path)\n",
    "docs = loader.load()\n",
    "print(f\"Loaded {len(docs)} pages\")\n",
    "print(docs[0].page_content[:300])\n",
    "\n",
    "text_splitter = RecursiveCharacterTextSplitter(chunk_size=1000, chunk_overlap=200)\n",
    "all_splits = text_splitter.split_documents(docs)\n",
    "\n",
    "_ = vector_store.add_documents(documents=all_splits)"
   ]
  },
  {
   "cell_type": "code",
   "execution_count": 9,
   "id": "a2f4db08",
   "metadata": {},
   "outputs": [],
   "source": [
    "prompt = hub.pull(\"rlm/rag-prompt\")\n",
    "\n",
    "class State(TypedDict):\n",
    "    question: str\n",
    "    context: List[Document]\n",
    "    answer: str\n",
    "\n",
    "\n",
    "\n",
    "def retrieve(state: State):\n",
    "    retrieved_docs = vector_store.similarity_search(state[\"question\"])\n",
    "    return{\"context\": retrieved_docs}\n",
    "\n",
    "\n",
    "def generate(state: State):\n",
    "    docs_content = \"\\n\\n\".join(doc.page_content for doc in state[\"context\"])\n",
    "    messages = prompt.invoke({\"question\": state[\"question\"], \"context\": docs_content})\n",
    "    response = llm.invoke(messages)\n",
    "    return {\"answer\": response.content}\n"
   ]
  },
  {
   "cell_type": "code",
   "execution_count": 10,
   "id": "c7d9f47d",
   "metadata": {},
   "outputs": [],
   "source": [
    "graph_builder = StateGraph(State).add_sequence([retrieve, generate])\n",
    "graph_builder.add_edge(START, \"retrieve\")\n",
    "graph = graph_builder.compile()\n",
    "\n"
   ]
  },
  {
   "cell_type": "code",
   "execution_count": 20,
   "id": "0d1532fa",
   "metadata": {},
   "outputs": [
    {
     "name": "stdout",
     "output_type": "stream",
     "text": [
      "Khawaja Bilal Ahmad's skills include Python, ReactJS, and TailwindCSS for languages and front-end development. He is skilled in AI/ML areas such as fine-tuning LLMs, using Hugging Face models, and feature engineering. His software development skills include Git/GitHub, FastAPI, SDLC, and Agile methodologies.\n"
     ]
    }
   ],
   "source": [
    "response = graph.invoke({\"question\": \"provide me his skills?\"})\n",
    "print(response[\"answer\"])"
   ]
  },
  {
   "cell_type": "code",
   "execution_count": 18,
   "id": "be1d9426",
   "metadata": {},
   "outputs": [
    {
     "name": "stdout",
     "output_type": "stream",
     "text": [
      "Context: [Document(id='db30645a-2b2f-4dd2-9753-7be1dcfe6ebb', metadata={'producer': 'Skia/PDF m135', 'creator': 'FlowCV - https://flowcv.com', 'creationdate': '2025-06-15T11:07:22+00:00', 'moddate': '2025-06-15T11:07:22+00:00', 'keywords': 'FlowCV – Online Resume Builder – https://flowcv.com', 'source': 'C:\\\\Users\\\\user\\\\Desktop\\\\Khawaja-Bilal-Ahmad.pdf', 'total_pages': 1, 'page': 0, 'page_label': '1'}, page_content='Khawaja Bilal Ahmad\\nbilalahmad101325@gmail.com\\n \\nIslamabad\\n \\n03365796899\\n \\n03315886499\\n \\nEDUCATION\\n2022 – present Riphah International University, Bachelors in Computer Science\\nCAREER OBJECTIVE\\nMotivated to grow as a developer by building smart, efficient systems that solve real-world problems. \\nEager to apply my skills in AI, backend development, and software engineering while continuously \\nlearning and contributing to meaningful tech solutions.\\nEXPERIENCE\\nAI Integration Specialist\\nAbsouilt IT Initiative (2024, 6 weeks)\\n•Automated a taxi dispatch system using AI to enhance driver efficiency and ease of use.\\n•Developed an AI algorithm to predict future ride hotspots and optimize driver positioning.\\n•Designed predictive AI models using historical data and real-time inputs.\\n•Contributed to a Norway-based project, integrating AI automation into an existing taxi dispatch \\nsystem.\\n•Focused on improving driver efficiency and streamlining dispatch operations through AI-driven \\nsolutions.'), Document(id='fe4623f0-e840-4971-ad15-b9d3b06d680a', metadata={'producer': 'Skia/PDF m135', 'creator': 'FlowCV - https://flowcv.com', 'creationdate': '2025-06-15T11:07:22+00:00', 'moddate': '2025-06-15T11:07:22+00:00', 'keywords': 'FlowCV – Online Resume Builder – https://flowcv.com', 'source': 'C:\\\\Users\\\\user\\\\Desktop\\\\Khawaja-Bilal-Ahmad.pdf', 'total_pages': 1, 'page': 0, 'page_label': '1'}, page_content='driven solution.\\n•Leveraging Hugging Face models and fine-tuning techniques to enhance log classification \\naccuracy.\\n•Key Technologies: LLM, Agentic AI, FastAPI, [Other relevant technologies].\\n•Responsibilities: Leading the development of AI-driven log classification and response modules, \\ncontributing to system architecture and database integration.\\nSKILLS\\nLanguages\\nPython, Reactjs, Tailwindcss\\nTools\\nGit/GitHub (Version Control), FastAPI (Basic \\nProficiency)\\nAI/ML\\nFine-tuning LLMs, Hugging Face models, \\nFeature Engineering, Data Cleaning\\nSoftware Development\\nSDLC, Agile (Scrum)'), Document(id='4192bd66-3808-4c4f-b875-7839a0cb0e1e', metadata={'producer': 'Skia/PDF m135', 'creator': 'FlowCV - https://flowcv.com', 'creationdate': '2025-06-15T11:07:22+00:00', 'moddate': '2025-06-15T11:07:22+00:00', 'keywords': 'FlowCV – Online Resume Builder – https://flowcv.com', 'source': 'C:\\\\Users\\\\user\\\\Desktop\\\\Khawaja-Bilal-Ahmad.pdf', 'total_pages': 1, 'page': 0, 'page_label': '1'}, page_content='system.\\n•Focused on improving driver efficiency and streamlining dispatch operations through AI-driven \\nsolutions.\\nACADEMIC PROJECTS\\nSoftware Applications & Management Systems\\n•Designed and implemented various software applications and management systems.\\n•Applied Object-Oriented Programming (OOP) principles.\\n•Utilized database management systems for efficient data storage and retrieval.\\n•Followed software engineering methodologies to enhance project quality.\\n•Gained hands-on experience with Python libraries and frameworks.\\nThreat Track AI - Log Detection Using LLM Model with Agentic AI (Ongoing)\\n•Developing a locally deployable AI system to automate log analysis and enhance security with real-\\ntime threat detection.\\n•Addressing challenges of manual log monitoring and delayed responses by implementing an AI-\\ndriven solution.\\n•Leveraging Hugging Face models and fine-tuning techniques to enhance log classification \\naccuracy.')]\n",
      "\n",
      "\n",
      "Answer: Khawaja Bilal Ahmad's skills include programming languages such as Python, Reactjs, and Tailwindcss. His AI/ML skills encompass fine-tuning LLMs, using Hugging Face models, feature engineering, and data cleaning. He is also proficient with tools like Git/GitHub and has experience in software development methodologies including SDLC and Agile.\n"
     ]
    }
   ],
   "source": [
    "print(f\"Context: {response['context']}\\n\\n\")\n",
    "print(f\"Answer: {response['answer']}\")"
   ]
  }
 ],
 "metadata": {
  "kernelspec": {
   "display_name": "Graphenv",
   "language": "python",
   "name": "python3"
  },
  "language_info": {
   "codemirror_mode": {
    "name": "ipython",
    "version": 3
   },
   "file_extension": ".py",
   "mimetype": "text/x-python",
   "name": "python",
   "nbconvert_exporter": "python",
   "pygments_lexer": "ipython3",
   "version": "3.12.3"
  }
 },
 "nbformat": 4,
 "nbformat_minor": 5
}
